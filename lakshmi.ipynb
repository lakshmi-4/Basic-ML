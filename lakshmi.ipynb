{
  "nbformat": 4,
  "nbformat_minor": 0,
  "metadata": {
    "colab": {
      "name": "lakshmi.ipynb",
      "provenance": [],
      "authorship_tag": "ABX9TyP1X/n/ha1sEK0OLiW5Fiu/",
      "include_colab_link": true
    },
    "kernelspec": {
      "name": "python3",
      "display_name": "Python 3"
    },
    "language_info": {
      "name": "python"
    }
  },
  "cells": [
    {
      "cell_type": "markdown",
      "metadata": {
        "id": "view-in-github",
        "colab_type": "text"
      },
      "source": [
        "<a href=\"https://colab.research.google.com/github/lakshmi-4/Basic-ML/blob/main/lakshmi.ipynb\" target=\"_parent\"><img src=\"https://colab.research.google.com/assets/colab-badge.svg\" alt=\"Open In Colab\"/></a>"
      ]
    },
    {
      "cell_type": "markdown",
      "metadata": {
        "id": "O7LuHZYmMjaj"
      },
      "source": [
        "1.pythonprogram for area of square"
      ]
    },
    {
      "cell_type": "code",
      "metadata": {
        "id": "Magky4WsM6wB"
      },
      "source": [
        "a=int(input())\n",
        "print(a**2)"
      ],
      "execution_count": null,
      "outputs": []
    },
    {
      "cell_type": "markdown",
      "metadata": {
        "id": "0N7Lz_h4NM4M"
      },
      "source": [
        "2.python program for area of right angle triangle"
      ]
    },
    {
      "cell_type": "code",
      "metadata": {
        "id": "DxB67CS8Noz4"
      },
      "source": [
        "a=int(input())\n",
        "b = int(input())\n",
        "print(0.5*a*b)\n"
      ],
      "execution_count": null,
      "outputs": []
    },
    {
      "cell_type": "markdown",
      "metadata": {
        "id": "5tIHd9HJN9u7"
      },
      "source": [
        "3.python program for sum of three numbers"
      ]
    },
    {
      "cell_type": "code",
      "metadata": {
        "id": "f-IJWdLZOKKF"
      },
      "source": [
        "a = int(input())\n",
        "b = int(input())\n",
        "c=int(input())\n",
        "print(a+b+c)"
      ],
      "execution_count": null,
      "outputs": []
    }
  ]
}